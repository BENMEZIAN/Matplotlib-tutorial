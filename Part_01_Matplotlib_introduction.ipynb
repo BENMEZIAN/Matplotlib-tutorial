{
  "nbformat": 4,
  "nbformat_minor": 0,
  "metadata": {
    "colab": {
      "provenance": [],
      "authorship_tag": "ABX9TyO3winR2tN/8QjtlpdtgRmJ",
      "include_colab_link": true
    },
    "kernelspec": {
      "name": "python3",
      "display_name": "Python 3"
    },
    "language_info": {
      "name": "python"
    }
  },
  "cells": [
    {
      "cell_type": "markdown",
      "metadata": {
        "id": "view-in-github",
        "colab_type": "text"
      },
      "source": [
        "<a href=\"https://colab.research.google.com/github/BENMEZIAN/Matplotlib-tutorial/blob/main/Part_01_Matplotlib_introduction.ipynb\" target=\"_parent\"><img src=\"https://colab.research.google.com/assets/colab-badge.svg\" alt=\"Open In Colab\"/></a>"
      ]
    },
    {
      "cell_type": "markdown",
      "source": [
        "# What's Matplotlib"
      ],
      "metadata": {
        "id": "3Orqk4bI2Pe-"
      }
    },
    {
      "cell_type": "markdown",
      "source": [
        "#### Matplotlib is a 2D and 3D plotting python library.\n",
        "#### It produces high quality graphs\n",
        "#### It also supports animation"
      ],
      "metadata": {
        "id": "snXLxSgn3sl_"
      }
    },
    {
      "cell_type": "markdown",
      "source": [
        "# Matplotlib graphs"
      ],
      "metadata": {
        "id": "9DbN3rAi3w39"
      }
    },
    {
      "cell_type": "code",
      "source": [
        "# prompt: What are the  types of matplotlib graphs\n",
        "\n",
        "# # What's Matplotlib\n",
        "# #### Matplotlib is a 2D and 3D plotting python library.\n",
        "# #### It produces high quality graphs\n",
        "# #### It also supports animation\n",
        "# # Matplotlib graphs\n",
        "\n",
        "# Types of Matplotlib Graphs:\n",
        "\n",
        "# 1. Line Plots: Used to display data points connected by lines, often showing trends over time.\n",
        "# 2. Scatter Plots: Used to display the relationship between two variables, with points representing individual data points.\n",
        "# 3. Bar Charts: Used to compare categories by representing data with rectangular bars.\n",
        "# 4. Histograms: Used to visualize the distribution of a dataset by dividing it into bins and showing the frequency of values in each bin.\n",
        "# 5. Pie Charts: Used to represent parts of a whole as slices of a circle, showing proportions or percentages.\n",
        "# 6. Box Plots: Used to show the distribution of data, including the median, quartiles, and outliers.\n",
        "# 7. Area Plots: Used to display the cumulative value of a variable over time or categories.\n",
        "# 8. Error Bars: Used to show the uncertainty or variability of data points.\n",
        "# 9. Heatmaps: Used to visualize data in a matrix format, with colors representing the magnitude of values.\n",
        "# 10. 3D Plots: Used to visualize data in three dimensions, often useful for representing surfaces or spatial relationships.\n",
        "# 11. Contour Plots: Used to display the level curves of a function, showing regions of equal value.\n",
        "# 12. Network Plots: Used to visualize the relationships between nodes in a network or graph.\n",
        "# 13. Polar Plots: Used to display data in a polar coordinate system, suitable for representing cyclical or angular data."
      ],
      "metadata": {
        "id": "mVr4O1le31i4"
      },
      "execution_count": null,
      "outputs": []
    },
    {
      "cell_type": "markdown",
      "source": [
        "# Installation of Matplotlib"
      ],
      "metadata": {
        "id": "Xnlaf34i4ltu"
      }
    },
    {
      "cell_type": "code",
      "source": [
        "!pip install matplotlib"
      ],
      "metadata": {
        "colab": {
          "base_uri": "https://localhost:8080/"
        },
        "collapsed": true,
        "id": "ZvT6yynx4qWS",
        "outputId": "0883079c-626a-4fed-c22c-3568a6676164"
      },
      "execution_count": 1,
      "outputs": [
        {
          "output_type": "stream",
          "name": "stdout",
          "text": [
            "Requirement already satisfied: matplotlib in /usr/local/lib/python3.11/dist-packages (3.10.0)\n",
            "Requirement already satisfied: contourpy>=1.0.1 in /usr/local/lib/python3.11/dist-packages (from matplotlib) (1.3.1)\n",
            "Requirement already satisfied: cycler>=0.10 in /usr/local/lib/python3.11/dist-packages (from matplotlib) (0.12.1)\n",
            "Requirement already satisfied: fonttools>=4.22.0 in /usr/local/lib/python3.11/dist-packages (from matplotlib) (4.56.0)\n",
            "Requirement already satisfied: kiwisolver>=1.3.1 in /usr/local/lib/python3.11/dist-packages (from matplotlib) (1.4.8)\n",
            "Requirement already satisfied: numpy>=1.23 in /usr/local/lib/python3.11/dist-packages (from matplotlib) (2.0.2)\n",
            "Requirement already satisfied: packaging>=20.0 in /usr/local/lib/python3.11/dist-packages (from matplotlib) (24.2)\n",
            "Requirement already satisfied: pillow>=8 in /usr/local/lib/python3.11/dist-packages (from matplotlib) (11.1.0)\n",
            "Requirement already satisfied: pyparsing>=2.3.1 in /usr/local/lib/python3.11/dist-packages (from matplotlib) (3.2.1)\n",
            "Requirement already satisfied: python-dateutil>=2.7 in /usr/local/lib/python3.11/dist-packages (from matplotlib) (2.8.2)\n",
            "Requirement already satisfied: six>=1.5 in /usr/local/lib/python3.11/dist-packages (from python-dateutil>=2.7->matplotlib) (1.17.0)\n"
          ]
        }
      ]
    },
    {
      "cell_type": "markdown",
      "source": [
        "# Import matplotlib"
      ],
      "metadata": {
        "id": "zjDOWl6P4_Ck"
      }
    },
    {
      "cell_type": "code",
      "source": [
        "from matplotlib import pyplot as plt # importing pyplot module from matplotlib library\n",
        "# or\n",
        "import matplotlib.pyplot as plt #  importing pyplot module from"
      ],
      "metadata": {
        "id": "edZkkl0l5FjK"
      },
      "execution_count": 2,
      "outputs": []
    },
    {
      "cell_type": "markdown",
      "source": [
        "# Study materials"
      ],
      "metadata": {
        "id": "V8lce8If5oar"
      }
    },
    {
      "cell_type": "code",
      "source": [
        "# https://indianaiproduction.com/python-matplotlib-tutorial/"
      ],
      "metadata": {
        "id": "aocLmmqV5wPn"
      },
      "execution_count": 4,
      "outputs": []
    }
  ]
}